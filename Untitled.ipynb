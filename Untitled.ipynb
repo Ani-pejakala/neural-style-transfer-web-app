{
 "cells": [
  {
   "cell_type": "code",
   "execution_count": 158,
   "metadata": {},
   "outputs": [],
   "source": [
    "import cv2\n",
    "import imutils\n",
    "net=cv2.dnn.readNetFromTorch(\"models/the_wave.t7\")\n"
   ]
  },
  {
   "cell_type": "code",
   "execution_count": 167,
   "metadata": {},
   "outputs": [],
   "source": [
    "image=cv2.imread('static/images/cat.jpeg')"
   ]
  },
  {
   "cell_type": "code",
   "execution_count": 168,
   "metadata": {},
   "outputs": [
    {
     "data": {
      "text/plain": [
       "(398, 600, 3)"
      ]
     },
     "execution_count": 168,
     "metadata": {},
     "output_type": "execute_result"
    }
   ],
   "source": [
    "image = imutils.resize(image, width=600)\n",
    "image.shape"
   ]
  },
  {
   "cell_type": "code",
   "execution_count": 169,
   "metadata": {},
   "outputs": [],
   "source": [
    "#image=image.reshape((3,image.shape[0],image.shape[1]))"
   ]
  },
  {
   "cell_type": "code",
   "execution_count": 170,
   "metadata": {},
   "outputs": [
    {
     "data": {
      "text/plain": [
       "(398, 600)"
      ]
     },
     "execution_count": 170,
     "metadata": {},
     "output_type": "execute_result"
    }
   ],
   "source": [
    "(h,w)=image.shape[0:2]\n",
    "h,w"
   ]
  },
  {
   "cell_type": "code",
   "execution_count": 171,
   "metadata": {},
   "outputs": [
    {
     "data": {
      "text/plain": [
       "(1, 3, 398, 600)"
      ]
     },
     "execution_count": 171,
     "metadata": {},
     "output_type": "execute_result"
    }
   ],
   "source": [
    "im=cv2.dnn.blobFromImage(image,1,(w,h),(103.939, 116.779, 123.680), swapRB=False, crop=False)\n",
    "im.shape"
   ]
  },
  {
   "cell_type": "code",
   "execution_count": 172,
   "metadata": {},
   "outputs": [
    {
     "ename": "error",
     "evalue": "OpenCV(4.1.1) C:\\projects\\opencv-python\\opencv\\modules\\dnn\\src\\layers\\eltwise_layer.cpp:116: error: (-215:Assertion failed) inputs[0] == inputs[i] in function 'cv::dnn::EltwiseLayerImpl::getMemoryShapes'\n",
     "output_type": "error",
     "traceback": [
      "\u001b[1;31m---------------------------------------------------------------------------\u001b[0m",
      "\u001b[1;31merror\u001b[0m                                     Traceback (most recent call last)",
      "\u001b[1;32m<ipython-input-172-69db3fe0d8a0>\u001b[0m in \u001b[0;36m<module>\u001b[1;34m()\u001b[0m\n\u001b[0;32m      1\u001b[0m \u001b[0mnet\u001b[0m\u001b[1;33m.\u001b[0m\u001b[0msetInput\u001b[0m\u001b[1;33m(\u001b[0m\u001b[0mim\u001b[0m\u001b[1;33m)\u001b[0m\u001b[1;33m\u001b[0m\u001b[1;33m\u001b[0m\u001b[0m\n\u001b[1;32m----> 2\u001b[1;33m \u001b[0mout\u001b[0m\u001b[1;33m=\u001b[0m\u001b[0mnet\u001b[0m\u001b[1;33m.\u001b[0m\u001b[0mforward\u001b[0m\u001b[1;33m(\u001b[0m\u001b[1;33m)\u001b[0m\u001b[1;33m\u001b[0m\u001b[1;33m\u001b[0m\u001b[0m\n\u001b[0m",
      "\u001b[1;31merror\u001b[0m: OpenCV(4.1.1) C:\\projects\\opencv-python\\opencv\\modules\\dnn\\src\\layers\\eltwise_layer.cpp:116: error: (-215:Assertion failed) inputs[0] == inputs[i] in function 'cv::dnn::EltwiseLayerImpl::getMemoryShapes'\n"
     ]
    }
   ],
   "source": [
    "net.setInput(im)\n",
    "out=net.forward()"
   ]
  },
  {
   "cell_type": "code",
   "execution_count": 165,
   "metadata": {},
   "outputs": [
    {
     "data": {
      "text/plain": [
       "(448, 600, 3)"
      ]
     },
     "execution_count": 165,
     "metadata": {},
     "output_type": "execute_result"
    }
   ],
   "source": [
    "out=out.reshape((3, out.shape[2], out.shape[3]))\n",
    "out[0]+=103.939\n",
    "out[1]+=116.779\n",
    "out[2]+=123.680\n",
    "out/=255.0\n",
    "out=out.transpose(1,2,0)\n",
    "out.shape"
   ]
  },
  {
   "cell_type": "code",
   "execution_count": 166,
   "metadata": {},
   "outputs": [],
   "source": [
    "while True:\n",
    "    cv2.imshow(\"Input\", image)\n",
    "    cv2.imshow(\"Output\", out)\n",
    "    k = cv2.waitKey(10) & 0xff # Press 'ESC' for exiting video and 's' to save res\n",
    "    if k == 27:            \n",
    "        break\n",
    "cv2.destroyAllWindows()"
   ]
  },
  {
   "cell_type": "code",
   "execution_count": 23,
   "metadata": {},
   "outputs": [
    {
     "data": {
      "text/plain": [
       "(array([[ 0],\n",
       "        [ 1],\n",
       "        [ 2],\n",
       "        [ 3],\n",
       "        [ 4],\n",
       "        [ 5],\n",
       "        [ 6],\n",
       "        [ 7],\n",
       "        [ 8],\n",
       "        [ 9],\n",
       "        [10],\n",
       "        [11],\n",
       "        [12],\n",
       "        [13],\n",
       "        [14],\n",
       "        [15],\n",
       "        [16],\n",
       "        [17],\n",
       "        [18],\n",
       "        [19],\n",
       "        [20],\n",
       "        [21],\n",
       "        [22],\n",
       "        [23],\n",
       "        [24],\n",
       "        [25],\n",
       "        [26],\n",
       "        [27],\n",
       "        [28],\n",
       "        [29],\n",
       "        [30],\n",
       "        [31],\n",
       "        [32],\n",
       "        [33],\n",
       "        [34],\n",
       "        [35],\n",
       "        [36],\n",
       "        [37],\n",
       "        [38],\n",
       "        [39],\n",
       "        [40],\n",
       "        [41],\n",
       "        [42],\n",
       "        [43],\n",
       "        [44],\n",
       "        [45],\n",
       "        [46],\n",
       "        [47],\n",
       "        [48],\n",
       "        [49],\n",
       "        [50],\n",
       "        [51],\n",
       "        [52],\n",
       "        [53],\n",
       "        [54],\n",
       "        [55]], dtype=int32), [[array([[  1],\n",
       "          [  3],\n",
       "          [446],\n",
       "          [600]], dtype=int32)], [array([[  1],\n",
       "          [  3],\n",
       "          [446],\n",
       "          [600]], dtype=int32)], [array([[  1],\n",
       "          [  3],\n",
       "          [526],\n",
       "          [680]], dtype=int32)], [array([[  1],\n",
       "          [ 32],\n",
       "          [526],\n",
       "          [680]], dtype=int32)], [array([[  1],\n",
       "          [ 32],\n",
       "          [526],\n",
       "          [680]], dtype=int32)], [array([[  1],\n",
       "          [ 32],\n",
       "          [526],\n",
       "          [680]], dtype=int32)], [array([[  1],\n",
       "          [ 64],\n",
       "          [263],\n",
       "          [340]], dtype=int32)], [array([[  1],\n",
       "          [ 64],\n",
       "          [263],\n",
       "          [340]], dtype=int32)], [array([[  1],\n",
       "          [ 64],\n",
       "          [263],\n",
       "          [340]], dtype=int32)], [array([[  1],\n",
       "          [128],\n",
       "          [132],\n",
       "          [170]], dtype=int32)], [array([[  1],\n",
       "          [128],\n",
       "          [132],\n",
       "          [170]], dtype=int32)], [array([[  1],\n",
       "          [128],\n",
       "          [132],\n",
       "          [170]], dtype=int32)], [array([[  1],\n",
       "          [128],\n",
       "          [130],\n",
       "          [168]], dtype=int32)], [array([[  1],\n",
       "          [128],\n",
       "          [130],\n",
       "          [168]], dtype=int32)], [array([[  1],\n",
       "          [128],\n",
       "          [130],\n",
       "          [168]], dtype=int32)], [array([[  1],\n",
       "          [128],\n",
       "          [128],\n",
       "          [166]], dtype=int32)], [array([[  1],\n",
       "          [128],\n",
       "          [132],\n",
       "          [170]], dtype=int32)], [array([[  1],\n",
       "          [128],\n",
       "          [128],\n",
       "          [166]], dtype=int32), array([[  1],\n",
       "          [128],\n",
       "          [128],\n",
       "          [166]], dtype=int32)], [array([[  1],\n",
       "          [128],\n",
       "          [128],\n",
       "          [166]], dtype=int32)], [array([[  1],\n",
       "          [128],\n",
       "          [126],\n",
       "          [164]], dtype=int32)], [array([[  1],\n",
       "          [128],\n",
       "          [126],\n",
       "          [164]], dtype=int32)], [array([[  1],\n",
       "          [128],\n",
       "          [126],\n",
       "          [164]], dtype=int32)], [array([[  1],\n",
       "          [128],\n",
       "          [124],\n",
       "          [162]], dtype=int32)], [array([[  1],\n",
       "          [128],\n",
       "          [128],\n",
       "          [166]], dtype=int32)], [array([[  1],\n",
       "          [128],\n",
       "          [124],\n",
       "          [162]], dtype=int32), array([[  1],\n",
       "          [128],\n",
       "          [124],\n",
       "          [162]], dtype=int32)], [array([[  1],\n",
       "          [128],\n",
       "          [124],\n",
       "          [162]], dtype=int32)], [array([[  1],\n",
       "          [128],\n",
       "          [122],\n",
       "          [160]], dtype=int32)], [array([[  1],\n",
       "          [128],\n",
       "          [122],\n",
       "          [160]], dtype=int32)], [array([[  1],\n",
       "          [128],\n",
       "          [122],\n",
       "          [160]], dtype=int32)], [array([[  1],\n",
       "          [128],\n",
       "          [120],\n",
       "          [158]], dtype=int32)], [array([[  1],\n",
       "          [128],\n",
       "          [124],\n",
       "          [162]], dtype=int32)], [array([[  1],\n",
       "          [128],\n",
       "          [120],\n",
       "          [158]], dtype=int32), array([[  1],\n",
       "          [128],\n",
       "          [120],\n",
       "          [158]], dtype=int32)], [array([[  1],\n",
       "          [128],\n",
       "          [120],\n",
       "          [158]], dtype=int32)], [array([[  1],\n",
       "          [128],\n",
       "          [118],\n",
       "          [156]], dtype=int32)], [array([[  1],\n",
       "          [128],\n",
       "          [118],\n",
       "          [156]], dtype=int32)], [array([[  1],\n",
       "          [128],\n",
       "          [118],\n",
       "          [156]], dtype=int32)], [array([[  1],\n",
       "          [128],\n",
       "          [116],\n",
       "          [154]], dtype=int32)], [array([[  1],\n",
       "          [128],\n",
       "          [120],\n",
       "          [158]], dtype=int32)], [array([[  1],\n",
       "          [128],\n",
       "          [116],\n",
       "          [154]], dtype=int32), array([[  1],\n",
       "          [128],\n",
       "          [116],\n",
       "          [154]], dtype=int32)], [array([[  1],\n",
       "          [128],\n",
       "          [116],\n",
       "          [154]], dtype=int32)], [array([[  1],\n",
       "          [128],\n",
       "          [114],\n",
       "          [152]], dtype=int32)], [array([[  1],\n",
       "          [128],\n",
       "          [114],\n",
       "          [152]], dtype=int32)], [array([[  1],\n",
       "          [128],\n",
       "          [114],\n",
       "          [152]], dtype=int32)], [array([[  1],\n",
       "          [128],\n",
       "          [112],\n",
       "          [150]], dtype=int32)], [array([[  1],\n",
       "          [128],\n",
       "          [116],\n",
       "          [154]], dtype=int32)], [array([[  1],\n",
       "          [128],\n",
       "          [112],\n",
       "          [150]], dtype=int32), array([[  1],\n",
       "          [128],\n",
       "          [112],\n",
       "          [150]], dtype=int32)], [array([[  1],\n",
       "          [128],\n",
       "          [112],\n",
       "          [150]], dtype=int32)], [array([[  1],\n",
       "          [ 64],\n",
       "          [224],\n",
       "          [300]], dtype=int32)], [array([[  1],\n",
       "          [ 64],\n",
       "          [224],\n",
       "          [300]], dtype=int32)], [array([[  1],\n",
       "          [ 64],\n",
       "          [224],\n",
       "          [300]], dtype=int32)], [array([[  1],\n",
       "          [ 32],\n",
       "          [448],\n",
       "          [600]], dtype=int32)], [array([[  1],\n",
       "          [ 32],\n",
       "          [448],\n",
       "          [600]], dtype=int32)], [array([[  1],\n",
       "          [ 32],\n",
       "          [448],\n",
       "          [600]], dtype=int32)], [array([[  1],\n",
       "          [  3],\n",
       "          [448],\n",
       "          [600]], dtype=int32)], [array([[  1],\n",
       "          [  3],\n",
       "          [448],\n",
       "          [600]], dtype=int32)], [array([[  1],\n",
       "          [  3],\n",
       "          [448],\n",
       "          [600]], dtype=int32)]], [[array([[  1],\n",
       "          [  3],\n",
       "          [446],\n",
       "          [600]], dtype=int32)], [array([[  1],\n",
       "          [  3],\n",
       "          [526],\n",
       "          [680]], dtype=int32)], [array([[  1],\n",
       "          [ 32],\n",
       "          [526],\n",
       "          [680]], dtype=int32)], [array([[  1],\n",
       "          [ 32],\n",
       "          [526],\n",
       "          [680]], dtype=int32)], [array([[  1],\n",
       "          [ 32],\n",
       "          [526],\n",
       "          [680]], dtype=int32)], [array([[  1],\n",
       "          [ 64],\n",
       "          [263],\n",
       "          [340]], dtype=int32)], [array([[  1],\n",
       "          [ 64],\n",
       "          [263],\n",
       "          [340]], dtype=int32)], [array([[  1],\n",
       "          [ 64],\n",
       "          [263],\n",
       "          [340]], dtype=int32)], [array([[  1],\n",
       "          [128],\n",
       "          [132],\n",
       "          [170]], dtype=int32)], [array([[  1],\n",
       "          [128],\n",
       "          [132],\n",
       "          [170]], dtype=int32)], [array([[  1],\n",
       "          [128],\n",
       "          [132],\n",
       "          [170]], dtype=int32)], [array([[  1],\n",
       "          [128],\n",
       "          [130],\n",
       "          [168]], dtype=int32)], [array([[  1],\n",
       "          [128],\n",
       "          [130],\n",
       "          [168]], dtype=int32)], [array([[  1],\n",
       "          [128],\n",
       "          [130],\n",
       "          [168]], dtype=int32)], [array([[  1],\n",
       "          [128],\n",
       "          [128],\n",
       "          [166]], dtype=int32)], [array([[  1],\n",
       "          [128],\n",
       "          [128],\n",
       "          [166]], dtype=int32)], [array([[  1],\n",
       "          [128],\n",
       "          [128],\n",
       "          [166]], dtype=int32)], [array([[  1],\n",
       "          [128],\n",
       "          [128],\n",
       "          [166]], dtype=int32)], [array([[  1],\n",
       "          [128],\n",
       "          [126],\n",
       "          [164]], dtype=int32)], [array([[  1],\n",
       "          [128],\n",
       "          [126],\n",
       "          [164]], dtype=int32)], [array([[  1],\n",
       "          [128],\n",
       "          [126],\n",
       "          [164]], dtype=int32)], [array([[  1],\n",
       "          [128],\n",
       "          [124],\n",
       "          [162]], dtype=int32)], [array([[  1],\n",
       "          [128],\n",
       "          [124],\n",
       "          [162]], dtype=int32)], [array([[  1],\n",
       "          [128],\n",
       "          [124],\n",
       "          [162]], dtype=int32)], [array([[  1],\n",
       "          [128],\n",
       "          [124],\n",
       "          [162]], dtype=int32)], [array([[  1],\n",
       "          [128],\n",
       "          [122],\n",
       "          [160]], dtype=int32)], [array([[  1],\n",
       "          [128],\n",
       "          [122],\n",
       "          [160]], dtype=int32)], [array([[  1],\n",
       "          [128],\n",
       "          [122],\n",
       "          [160]], dtype=int32)], [array([[  1],\n",
       "          [128],\n",
       "          [120],\n",
       "          [158]], dtype=int32)], [array([[  1],\n",
       "          [128],\n",
       "          [120],\n",
       "          [158]], dtype=int32)], [array([[  1],\n",
       "          [128],\n",
       "          [120],\n",
       "          [158]], dtype=int32)], [array([[  1],\n",
       "          [128],\n",
       "          [120],\n",
       "          [158]], dtype=int32)], [array([[  1],\n",
       "          [128],\n",
       "          [118],\n",
       "          [156]], dtype=int32)], [array([[  1],\n",
       "          [128],\n",
       "          [118],\n",
       "          [156]], dtype=int32)], [array([[  1],\n",
       "          [128],\n",
       "          [118],\n",
       "          [156]], dtype=int32)], [array([[  1],\n",
       "          [128],\n",
       "          [116],\n",
       "          [154]], dtype=int32)], [array([[  1],\n",
       "          [128],\n",
       "          [116],\n",
       "          [154]], dtype=int32)], [array([[  1],\n",
       "          [128],\n",
       "          [116],\n",
       "          [154]], dtype=int32)], [array([[  1],\n",
       "          [128],\n",
       "          [116],\n",
       "          [154]], dtype=int32)], [array([[  1],\n",
       "          [128],\n",
       "          [114],\n",
       "          [152]], dtype=int32)], [array([[  1],\n",
       "          [128],\n",
       "          [114],\n",
       "          [152]], dtype=int32)], [array([[  1],\n",
       "          [128],\n",
       "          [114],\n",
       "          [152]], dtype=int32)], [array([[  1],\n",
       "          [128],\n",
       "          [112],\n",
       "          [150]], dtype=int32)], [array([[  1],\n",
       "          [128],\n",
       "          [112],\n",
       "          [150]], dtype=int32)], [array([[  1],\n",
       "          [128],\n",
       "          [112],\n",
       "          [150]], dtype=int32)], [array([[  1],\n",
       "          [128],\n",
       "          [112],\n",
       "          [150]], dtype=int32)], [array([[  1],\n",
       "          [ 64],\n",
       "          [224],\n",
       "          [300]], dtype=int32)], [array([[  1],\n",
       "          [ 64],\n",
       "          [224],\n",
       "          [300]], dtype=int32)], [array([[  1],\n",
       "          [ 64],\n",
       "          [224],\n",
       "          [300]], dtype=int32)], [array([[  1],\n",
       "          [ 32],\n",
       "          [448],\n",
       "          [600]], dtype=int32)], [array([[  1],\n",
       "          [ 32],\n",
       "          [448],\n",
       "          [600]], dtype=int32)], [array([[  1],\n",
       "          [ 32],\n",
       "          [448],\n",
       "          [600]], dtype=int32)], [array([[  1],\n",
       "          [  3],\n",
       "          [448],\n",
       "          [600]], dtype=int32)], [array([[  1],\n",
       "          [  3],\n",
       "          [448],\n",
       "          [600]], dtype=int32)], [array([[  1],\n",
       "          [  3],\n",
       "          [448],\n",
       "          [600]], dtype=int32)], [array([[  1],\n",
       "          [  3],\n",
       "          [448],\n",
       "          [600]], dtype=int32)]])"
      ]
     },
     "execution_count": 23,
     "metadata": {},
     "output_type": "execute_result"
    }
   ],
   "source": [
    "net.getLayersShapes(im.shape)"
   ]
  },
  {
   "cell_type": "code",
   "execution_count": 21,
   "metadata": {},
   "outputs": [
    {
     "data": {
      "text/plain": [
       "['l1_Padding',\n",
       " 'l2_Convolution',\n",
       " 'l3_BatchNorm',\n",
       " 'l4_ReLU',\n",
       " 'l5_Convolution',\n",
       " 'l6_BatchNorm',\n",
       " 'l7_ReLU',\n",
       " 'l8_Convolution',\n",
       " 'l9_BatchNorm',\n",
       " 'l10_ReLU',\n",
       " 'l12_Convolution',\n",
       " 'l13_BatchNorm',\n",
       " 'l14_ReLU',\n",
       " 'l15_Convolution',\n",
       " 'l16_BatchNorm',\n",
       " 'l17_Slice',\n",
       " 'l18_torchCAddTable',\n",
       " 'l20_Convolution',\n",
       " 'l21_BatchNorm',\n",
       " 'l22_ReLU',\n",
       " 'l23_Convolution',\n",
       " 'l24_BatchNorm',\n",
       " 'l25_Slice',\n",
       " 'l26_torchCAddTable',\n",
       " 'l28_Convolution',\n",
       " 'l29_BatchNorm',\n",
       " 'l30_ReLU',\n",
       " 'l31_Convolution',\n",
       " 'l32_BatchNorm',\n",
       " 'l33_Slice',\n",
       " 'l34_torchCAddTable',\n",
       " 'l36_Convolution',\n",
       " 'l37_BatchNorm',\n",
       " 'l38_ReLU',\n",
       " 'l39_Convolution',\n",
       " 'l40_BatchNorm',\n",
       " 'l41_Slice',\n",
       " 'l42_torchCAddTable',\n",
       " 'l44_Convolution',\n",
       " 'l45_BatchNorm',\n",
       " 'l46_ReLU',\n",
       " 'l47_Convolution',\n",
       " 'l48_BatchNorm',\n",
       " 'l49_Slice',\n",
       " 'l50_torchCAddTable',\n",
       " 'l51_Deconvolution',\n",
       " 'l52_BatchNorm',\n",
       " 'l53_ReLU',\n",
       " 'l54_Deconvolution',\n",
       " 'l55_BatchNorm',\n",
       " 'l56_ReLU',\n",
       " 'l57_Convolution',\n",
       " 'l58_TanH',\n",
       " 'l59_Power',\n",
       " 'l60_Identity']"
      ]
     },
     "execution_count": 21,
     "metadata": {},
     "output_type": "execute_result"
    }
   ],
   "source": [
    "net.getLayerNames()"
   ]
  },
  {
   "cell_type": "code",
   "execution_count": 91,
   "metadata": {},
   "outputs": [
    {
     "data": {
      "text/plain": [
       "array([[ 73.13039 ,  68.016205,  79.58724 , ..., 113.20344 ,  98.24791 ,\n",
       "         95.67239 ],\n",
       "       [ 75.3002  ,  70.75393 ,  86.06269 , ..., 110.364174,  99.35335 ,\n",
       "        107.29494 ],\n",
       "       [ 87.91382 ,  78.55969 ,  92.73489 , ..., 115.383484, 103.46109 ,\n",
       "        112.67406 ],\n",
       "       ...,\n",
       "       [ 34.338684,  30.747736,  34.195442, ...,  64.37113 ,  57.15034 ,\n",
       "         48.317616],\n",
       "       [ 32.13759 ,  23.26514 ,  29.365114, ...,  62.100937,  53.65262 ,\n",
       "         43.551556],\n",
       "       [ 42.802067,  44.362793,  49.30588 , ...,  69.130104,  59.778267,\n",
       "         50.713593]], dtype=float32)"
      ]
     },
     "execution_count": 91,
     "metadata": {},
     "output_type": "execute_result"
    }
   ],
   "source": [
    "out.reshape((3, out.shape[2], out.shape[3]))[0]"
   ]
  },
  {
   "cell_type": "code",
   "execution_count": 100,
   "metadata": {},
   "outputs": [
    {
     "data": {
      "text/plain": [
       "array([[ 73.13039 ,  68.016205,  79.58724 ],\n",
       "       [ 86.442825,  88.67892 ,  92.70785 ],\n",
       "       [ 91.945274,  93.32019 ,  91.514015],\n",
       "       ...,\n",
       "       [112.98613 , 111.95985 , 113.74603 ],\n",
       "       [112.77595 , 116.08513 , 114.12832 ],\n",
       "       [115.383484, 103.46109 , 112.67406 ]], dtype=float32)"
      ]
     },
     "execution_count": 100,
     "metadata": {},
     "output_type": "execute_result"
    }
   ],
   "source": [
    "out.reshape(3,out.shape[2], out.shape[3])[0]"
   ]
  },
  {
   "cell_type": "code",
   "execution_count": 103,
   "metadata": {},
   "outputs": [
    {
     "data": {
      "text/plain": [
       "array([[ 73.13039 ,  68.016205,  79.58724 , ..., 113.20344 ,  98.24791 ,\n",
       "         95.67239 ],\n",
       "       [ 75.3002  ,  70.75393 ,  86.06269 , ..., 110.364174,  99.35335 ,\n",
       "        107.29494 ],\n",
       "       [ 87.91382 ,  78.55969 ,  92.73489 , ..., 115.383484, 103.46109 ,\n",
       "        112.67406 ],\n",
       "       ...,\n",
       "       [ 34.338684,  30.747736,  34.195442, ...,  64.37113 ,  57.15034 ,\n",
       "         48.317616],\n",
       "       [ 32.13759 ,  23.26514 ,  29.365114, ...,  62.100937,  53.65262 ,\n",
       "         43.551556],\n",
       "       [ 42.802067,  44.362793,  49.30588 , ...,  69.130104,  59.778267,\n",
       "         50.713593]], dtype=float32)"
      ]
     },
     "execution_count": 103,
     "metadata": {},
     "output_type": "execute_result"
    }
   ],
   "source": [
    "out[0,0]"
   ]
  },
  {
   "cell_type": "code",
   "execution_count": null,
   "metadata": {},
   "outputs": [],
   "source": []
  },
  {
   "cell_type": "code",
   "execution_count": 106,
   "metadata": {},
   "outputs": [
    {
     "data": {
      "text/plain": [
       "(1, 3, 448, 600)"
      ]
     },
     "execution_count": 106,
     "metadata": {},
     "output_type": "execute_result"
    }
   ],
   "source": [
    "out.shape"
   ]
  },
  {
   "cell_type": "code",
   "execution_count": null,
   "metadata": {},
   "outputs": [],
   "source": []
  }
 ],
 "metadata": {
  "kernelspec": {
   "display_name": "Python 3",
   "language": "python",
   "name": "python3"
  },
  "language_info": {
   "codemirror_mode": {
    "name": "ipython",
    "version": 3
   },
   "file_extension": ".py",
   "mimetype": "text/x-python",
   "name": "python",
   "nbconvert_exporter": "python",
   "pygments_lexer": "ipython3",
   "version": "3.6.8"
  }
 },
 "nbformat": 4,
 "nbformat_minor": 2
}
